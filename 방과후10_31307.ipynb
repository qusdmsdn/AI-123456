{
  "nbformat": 4,
  "nbformat_minor": 0,
  "metadata": {
    "colab": {
      "name": "방과후10_31307.ipynb",
      "provenance": [],
      "authorship_tag": "ABX9TyOVWT3II/EaZBV/J80Ub47x",
      "include_colab_link": true
    },
    "kernelspec": {
      "name": "python3",
      "display_name": "Python 3"
    }
  },
  "cells": [
    {
      "cell_type": "markdown",
      "metadata": {
        "id": "view-in-github",
        "colab_type": "text"
      },
      "source": [
        "<a href=\"https://colab.research.google.com/github/qusdmsdn/AI-123456/blob/master/%EB%B0%A9%EA%B3%BC%ED%9B%8410_31307.ipynb\" target=\"_parent\"><img src=\"https://colab.research.google.com/assets/colab-badge.svg\" alt=\"Open In Colab\"/></a>"
      ]
    },
    {
      "cell_type": "markdown",
      "metadata": {
        "id": "Od3tQQXfBZDa",
        "colab_type": "text"
      },
      "source": [
        "#Keras AI"
      ]
    },
    {
      "cell_type": "code",
      "metadata": {
        "id": "r1_8WFDsAPod",
        "colab_type": "code",
        "colab": {
          "base_uri": "https://localhost:8080/",
          "height": 34
        },
        "outputId": "0c06d8e2-f9fa-447b-ece3-e6da596907c6"
      },
      "source": [
        "print(\"Hello Github\")"
      ],
      "execution_count": 2,
      "outputs": [
        {
          "output_type": "stream",
          "text": [
            "Hello Github\n"
          ],
          "name": "stdout"
        }
      ]
    }
  ]
}